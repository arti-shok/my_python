{
 "cells": [
  {
   "cell_type": "markdown",
   "metadata": {},
   "source": [
    "суть игры довольна проста:\n",
    "это симулятор выживания, в котором есть 2 уровня сложности: вы можете играть как за бомжа, так и за работягу.\n",
    "у бомжа потенциал намного меньше, а значит и начальные показатели меньше, чем у работяги. у бомжа нет стремления развиваться, ему достаточно лишь жить сегодняшним днем, так что круг возможностей у него очень узок...\n",
    "работяге же доступны все те прелести жизни, которыми может довольствоваться бомж, однако у него есть и другие за счёт его стремления развиваться. у работяги начальные показатели выше и, соответственно, выживать, играя за него, легче.\n",
    "\n",
    "а сколько дней сможешь продержаться ты?"
   ]
  },
  {
   "cell_type": "code",
   "execution_count": 61,
   "metadata": {},
   "outputs": [],
   "source": [
    "def m(x,y):\n",
    "    '''нужна для того, чтобы показатели не уходили в \"минус\"'''\n",
    "    if x-y >= 0:\n",
    "        return x-y\n",
    "    else:\n",
    "        return 0"
   ]
  },
  {
   "cell_type": "code",
   "execution_count": 62,
   "metadata": {},
   "outputs": [],
   "source": [
    "class Jobless:\n",
    "    def __init__(self,new_name = 'бомж без имени'):\n",
    "        self._name = new_name\n",
    "        print(f'добро пожаловать в суровый мир, {self._name}')\n",
    "        self._health = 5\n",
    "        self._money = 5\n",
    "        self._mood = 5\n",
    "        self._hunger = 5\n",
    "        self._critical = 5\n",
    "        self._life_span = 0\n",
    "        print(f'ваши параметры:\\n деньги: {self._money}, здоровье: {self._health}, настроение: {self._mood}, чувство голода: {self._hunger}, запас жизни: {self._critical}\\nдля справки используй метод comands')\n",
    "    \n",
    "    def set_name(self, new_name):\n",
    "        \"\"\"дает имя бомжу\"\"\"\n",
    "        self._name = new_name\n",
    "        print(f' ну привет, {self._name}')\n",
    "        print(f'ваши параметры:\\n деньги: {self._money}, здоровье: {self._health}, настроение: {self._mood}, чувство голода: {self._hunger}, запас жизни: {self._critical}')\n",
    "     \n",
    "    def parameters(self):\n",
    "        \"\"\"показывает параметры бомжа\"\"\"\n",
    "        print(f'ваши параметры:\\n деньги: {self._money}, здоровье: {self._health}, настроение: {self._mood}, чувство голода: {self._hunger}, запас жизни: {self._critical}')\n",
    "        \n",
    "    def comands(self):\n",
    "        \"\"\"выдает список доступных команд\"\"\"\n",
    "        print('set_name, parameters, pharmacy, canteen, hard_work, sleep')\n",
    "\n",
    "    def pharmacy(self): \n",
    "        \"\"\"поход в аптеку\n",
    "        деньги -2\n",
    "        здоровье +3\n",
    "        настроение +1\n",
    "        чувство голода -1\n",
    "        \"\"\"\n",
    "        if self._money >=2 and self._critical>0:\n",
    "            self._money -=2\n",
    "            self._health += 3 \n",
    "            self._mood +=1\n",
    "            self._hunger = m(self._hunger, 1)\n",
    "            self._life_span +=1\n",
    "            if (self._money == 0) or (self._health == 0) or (self._mood == 0) or (self._hunger == 0):\n",
    "                print(f'вы истощены, вам осталось {self._critical} дней, чтобы восстановить показатели')\n",
    "                self._critical -=1\n",
    "            if self._critical == 0:\n",
    "                print(f'к сожалению, вы погибли.\\n вы продержались {self._life_span} дней')\n",
    "        else:\n",
    "            print('недостаточно денег или вы погибли')\n",
    "        print(f'ваши параметры:\\n деньги: {self._money}, здоровье: {self._health}, настроение: {self._mood}, чувство голода: {self._hunger}, запас жизни: {self._critical}')\n",
    "            \n",
    "    def canteen(self):\n",
    "        \"\"\"поход в самую дешевую столовую\n",
    "        деньги -2\n",
    "        здоровье -1\n",
    "        настроение +1\n",
    "        чувство голода +2\n",
    "        \"\"\"\n",
    "        if self._money >=2 and self._critical>0:\n",
    "            self._money -=2\n",
    "            self._health = m(self._health, 1)\n",
    "            self._mood +=1\n",
    "            self._hunger +=2\n",
    "            self._life_span +=1\n",
    "            if (self._money == 0) or (self._health == 0) or (self._mood == 0) or (self._hunger == 0):\n",
    "                print(f'вы истощены, вам осталось {self._critical} дней, чтобы восстановить показатели')\n",
    "                self._critical -=1\n",
    "            if self._critical == 0:\n",
    "                print(f'к сожалению, вы погибли.\\n вы продержались {self._life_span} дней')\n",
    "        else:\n",
    "            print('недостаточно денег или вы погибли')\n",
    "        print(f'ваши параметры:\\n деньги: {self._money}, здоровье: {self._health}, настроение: {self._mood}, чувство голода: {self._hunger}, запас жизни: {self._critical}')\n",
    "            \n",
    "    def hard_work(self):\n",
    "        \"\"\"заработать денег на тяжелой работе\n",
    "        деньги +6\n",
    "        здоровье -2\n",
    "        настроение -1\n",
    "        чувство голода -1\n",
    "        \"\"\"\n",
    "        if self._health >= 2 and self._critical>0:\n",
    "            self._health -=2\n",
    "            self._mood = m(self._mood, 1)\n",
    "            self._hunger = m(self._hunger, 1)\n",
    "            self._money +=6\n",
    "            self._life_span +=1\n",
    "            if (self._money == 0) or (self._health == 0) or (self._mood == 0) or (self._hunger == 0):\n",
    "                print(f'вы истощены, вам осталось {self._critical} дней, чтобы восстановить показатели')\n",
    "                self._critical -=1\n",
    "            if self._critical == 0:\n",
    "                print(f'к сожалению, вы погибли.\\n вы продержались {self._life_span} дней')\n",
    "        else:\n",
    "            print('слишком плохое состояние для такой работы или вы погибли')\n",
    "        print(f'ваши параметры:\\n деньги: {self._money}, здоровье: {self._health}, настроение: {self._mood}, чувство голода: {self._hunger}, запас жизни: {self._critical}')\n",
    "    \n",
    "    def sleep(self):\n",
    "        \"\"\"сон\n",
    "        здоровье +1\n",
    "        настроение +1\n",
    "        чувство голода -1\n",
    "        \"\"\"\n",
    "        if self._hunger >=1 and self._critical>0:\n",
    "            self._hunger -=1\n",
    "            self._mood +=1\n",
    "            self._health +=1\n",
    "            self._life_span +=1\n",
    "            if (self._money == 0) or (self._health == 0) or (self._mood == 0) or (self._hunger == 0):\n",
    "                print(f'вы истощены, вам осталось {self._critical} дней, чтобы восстановить показатели')\n",
    "                self._critical -=1\n",
    "            if self._critical == 0:\n",
    "                print(f'к сожалению, вы погибли.\\n вы продержались {self._life_span} дней')\n",
    "        else:\n",
    "            print('вы настолько голодны, что не можете спать или вы погибли')\n",
    "        print(f'ваши параметры:\\n деньги: {self._money}, здоровье: {self._health}, настроение: {self._mood}, чувство голода: {self._hunger}, запас жизни: {self._critical}')\n",
    "    \n",
    "    def vodka(self):\n",
    "        \"\"\"почему бы, собстенно, и нет?\n",
    "        живём один раз так-то...\n",
    "        деньги -1\n",
    "        здоровье -10\n",
    "        настроение +20\n",
    "        голод +2\n",
    "        \"\"\"\n",
    "        if self._critical> 0:\n",
    "            self._mood +=20\n",
    "            self._health = m(self._health, 10)\n",
    "            self._hunger +=2\n",
    "            self._life_span +=1\n",
    "            if (self._money == 0) or (self._health == 0) or (self._mood == 0) or (self._hunger == 0):\n",
    "                print(f'вы истощены, вам осталось {self._critical} дней, чтобы восстановить показатели')\n",
    "                self._critical -=1\n",
    "        else:\n",
    "            print(f'к сожалению, вы погибли.\\n вы продержались {self._life_span} дней')\n",
    "        print(f'ваши параметры:\\n деньги: {self._money}, здоровье: {self._health}, настроение: {self._mood}, чувство голода: {self._hunger}, запас жизни: {self._critical}')  "
   ]
  },
  {
   "cell_type": "code",
   "execution_count": 63,
   "metadata": {},
   "outputs": [],
   "source": [
    "class Worker(Jobless):\n",
    "    def __init__(self,new_name = 'работяга без имени'):\n",
    "        self._name = new_name\n",
    "        print(f'добро пожаловать в суровый мир, {self._name}')\n",
    "        self._health = 15\n",
    "        self._money = 15\n",
    "        self._mood = 15\n",
    "        self._hunger = 15\n",
    "        self._critical = 15\n",
    "        self._life_span = 0\n",
    "        print(f'ваши параметры:\\n деньги: {self._money}, здоровье: {self._health}, настроение: {self._mood}, чувство голода: {self._hunger}, запас жизни: {self._critical}\\nдля справки используй метод comands')\n",
    "   \n",
    "    \n",
    "    def comands(self):\n",
    "        print('set_name, parameters, pharmacy, canteen, hard_work, sleep, hospital, restaurant, office_work, spa')\n",
    "        \n",
    "    def hospital(self): \n",
    "        \"\"\"поход в частную клинику\n",
    "        деньги -10\n",
    "        здоровье +7\n",
    "        настроение +4\n",
    "        чувство голода -1\n",
    "        \"\"\"\n",
    "        if self._money >=10 and self._critical>0:\n",
    "            self._money -=10\n",
    "            self._health +=7\n",
    "            self._mood +=4\n",
    "            self._life_span +=1\n",
    "            self._hunger = m(self._hunger, 1)\n",
    "            if (self._money == 0) or (self._health == 0) or (self._mood == 0) or (self._hunger == 0):\n",
    "                print(f'вы истощены, вам осталось {self._critical} дней, чтобы восстановить показатели')\n",
    "                self._critical -=1\n",
    "            if self._critical == 0:\n",
    "                print(f'к сожалению, вы погибли.\\n вы продержались {self._life_span} дней')\n",
    "        else:\n",
    "            print('недостаточно денег или вы погибли')\n",
    "        print(f'ваши параметры:\\n деньги: {self._money}, здоровье: {self._health}, настроение: {self._mood}, чувство голода: {self._hunger}, запас жизни: {self._critical}')\n",
    "   \n",
    "    def restaurant(self): \n",
    "        \"\"\"поход в дорогой ресторан\n",
    "        деньги -15\n",
    "        здоровье +4\n",
    "        настроение +5\n",
    "        чувство голода +8\n",
    "        \"\"\"\n",
    "        if self._money >=15 and self._critical>0:\n",
    "            self._money -=15\n",
    "            self._health +=4\n",
    "            self._mood +=5\n",
    "            self._hunger +=8\n",
    "            self._life_span +=1\n",
    "            if (self._money == 0) or (self._health == 0) or (self._mood == 0) or (self._hunger == 0):\n",
    "                print(f'вы истощены, вам осталось {self._critical} дней, чтобы восстановить показатели')\n",
    "                self._critical -=1\n",
    "            if self._critical == 0:\n",
    "                print(f'к сожалению, вы погибли.\\n вы продержались {self._life_span} дней')\n",
    "        else:\n",
    "            print('недостаточно денег или вы погибли')\n",
    "        print(f'ваши параметры:\\n деньги: {self._money}, здоровье: {self._health}, настроение: {self._mood}, чувство голода: {self._hunger}, запас жизни: {self._critical}')\n",
    "    \n",
    "    def office_work(self):\n",
    "        \"\"\"заработать денег, работая в оффисе\n",
    "        деньги +16\n",
    "        здоровье -2\n",
    "        настроение -5\n",
    "        чувство голода -7\n",
    "        \"\"\"\n",
    "        if (self._mood >= 5) and (self._hunger >=7) and (self._critical>0):\n",
    "            self._health -=2\n",
    "            self._mood -=5\n",
    "            self._hunger -=7\n",
    "            self._money +=16\n",
    "            self._life_span +=1\n",
    "            if (self._money == 0) or (self._health == 0) or (self._mood == 0) or (self._hunger == 0):\n",
    "                print(f'вы истощены, вам осталось {self._critical} дней, чтобы восстановить показатели')\n",
    "                self._critical -=1\n",
    "            if self._critical == 0:\n",
    "                print(f'к сожалению, вы погибли.\\n вы продержались {self._life_span} дней')\n",
    "        else:\n",
    "            print('слишком плохое состояние для такой работы, слишком плохое настроение или же вы погибли')\n",
    "        print(f'ваши параметры:\\n деньги: {self._money}, здоровье: {self._health}, настроение: {self._mood}, чувство голода: {self._hunger}, запас жизни: {self._critical}')\n",
    "    \n",
    "    def spa(self):\n",
    "        \"\"\"поход в спа-салон\n",
    "        деньги -10\n",
    "        здоровье +5\n",
    "        настроение +9\n",
    "        чувство голода -3\n",
    "        \"\"\"\n",
    "        if (self._hunger >=3) and (self._money >= 10) and (self._critical>0):\n",
    "            self._hunger -=3\n",
    "            self._money -= 10\n",
    "            self._mood +=9\n",
    "            self._health +=5\n",
    "            self._life_span +=1\n",
    "            if (self._money == 0) or (self._health == 0) or (self._mood == 0) or (self._hunger == 0):\n",
    "                print(f'вы истощены, вам осталось {self._critical} дней, чтобы восстановить показатели')\n",
    "                self._critical -=1\n",
    "            if self._critical == 0:\n",
    "                print(f'к сожалению, вы погибли.\\n вы продержались {self._life_span} дней')\n",
    "        else:\n",
    "            print('вы настолько голодны, что не можете спать, у вас недостаточно денег или вы погибли')\n",
    "        print(f'ваши параметры:\\n деньги: {self._money}, здоровье: {self._health}, настроение: {self._mood}, чувство голода: {self._hunger}, запас жизни: {self._critical}')"
   ]
  },
  {
   "cell_type": "code",
   "execution_count": 64,
   "metadata": {},
   "outputs": [
    {
     "name": "stdout",
     "output_type": "stream",
     "text": [
      "добро пожаловать в суровый мир, работяга без имени\n",
      "ваши параметры:\n",
      " деньги: 15, здоровье: 15, настроение: 15, чувство голода: 15, запас жизни: 15\n",
      "для справки используй метод comands\n",
      "set_name, parameters, pharmacy, canteen, hard_work, sleep, hospital, restaurant, office_work, spa\n",
      "добро пожаловать в суровый мир, бомж без имени\n",
      "ваши параметры:\n",
      " деньги: 5, здоровье: 5, настроение: 5, чувство голода: 5, запас жизни: 5\n",
      "для справки используй метод comands\n",
      "set_name, parameters, pharmacy, canteen, hard_work, sleep\n"
     ]
    }
   ],
   "source": [
    "e = Worker()\n",
    "e.comands()\n",
    "w = Jobless()\n",
    "w.comands()"
   ]
  },
  {
   "cell_type": "code",
   "execution_count": 65,
   "metadata": {},
   "outputs": [
    {
     "name": "stdout",
     "output_type": "stream",
     "text": [
      "вы истощены, вам осталось 5 дней, чтобы восстановить показатели\n",
      "ваши параметры:\n",
      " деньги: 5, здоровье: 0, настроение: 25, чувство голода: 7, запас жизни: 4\n"
     ]
    }
   ],
   "source": [
    "w.vodka()"
   ]
  },
  {
   "cell_type": "code",
   "execution_count": 66,
   "metadata": {},
   "outputs": [
    {
     "name": "stdout",
     "output_type": "stream",
     "text": [
      "set_name, parameters, pharmacy, canteen, hard_work, sleep\n"
     ]
    }
   ],
   "source": [
    "w.comands()"
   ]
  },
  {
   "cell_type": "code",
   "execution_count": 67,
   "metadata": {},
   "outputs": [
    {
     "name": "stdout",
     "output_type": "stream",
     "text": [
      "ваши параметры:\n",
      " деньги: 3, здоровье: 3, настроение: 26, чувство голода: 6, запас жизни: 4\n"
     ]
    }
   ],
   "source": [
    "w.pharmacy()"
   ]
  },
  {
   "cell_type": "code",
   "execution_count": 68,
   "metadata": {},
   "outputs": [
    {
     "name": "stdout",
     "output_type": "stream",
     "text": [
      "ваши параметры:\n",
      " деньги: 15, здоровье: 5, настроение: 35, чувство голода: 17, запас жизни: 15\n"
     ]
    }
   ],
   "source": [
    "e.vodka()"
   ]
  },
  {
   "cell_type": "code",
   "execution_count": 69,
   "metadata": {},
   "outputs": [
    {
     "name": "stdout",
     "output_type": "stream",
     "text": [
      "ваши параметры:\n",
      " деньги: 5, здоровье: 10, настроение: 44, чувство голода: 14, запас жизни: 15\n"
     ]
    }
   ],
   "source": [
    "e.spa()"
   ]
  },
  {
   "cell_type": "code",
   "execution_count": 74,
   "metadata": {},
   "outputs": [
    {
     "name": "stdout",
     "output_type": "stream",
     "text": [
      "к сожалению, вы погибли.\n",
      " вы продержались 6 дней\n",
      "ваши параметры:\n",
      " деньги: 3, здоровье: 0, настроение: 106, чувство голода: 14, запас жизни: 0\n"
     ]
    }
   ],
   "source": [
    "w.vodka()"
   ]
  },
  {
   "cell_type": "code",
   "execution_count": null,
   "metadata": {},
   "outputs": [],
   "source": []
  }
 ],
 "metadata": {
  "kernelspec": {
   "display_name": "Python 3",
   "language": "python",
   "name": "python3"
  },
  "language_info": {
   "codemirror_mode": {
    "name": "ipython",
    "version": 3
   },
   "file_extension": ".py",
   "mimetype": "text/x-python",
   "name": "python",
   "nbconvert_exporter": "python",
   "pygments_lexer": "ipython3",
   "version": "3.7.4"
  }
 },
 "nbformat": 4,
 "nbformat_minor": 4
}
