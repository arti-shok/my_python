{
 "cells": [
  {
   "cell_type": "markdown",
   "metadata": {},
   "source": [
    "видимо, питон плохо дружит с кириллицей, поэтому я заменил текст на английский по своему выбору"
   ]
  },
  {
   "cell_type": "code",
   "execution_count": 26,
   "metadata": {},
   "outputs": [],
   "source": [
    "data = []\n",
    "try:\n",
    "    with open('text.txt','r') as f:\n",
    "        r = f.readlines()\n",
    "        for i in r:\n",
    "            data.append(i.strip())\n",
    "    for i in range(len(data)):\n",
    "        data[i] = str(i+1) +' ' + data[i]\n",
    "    with open('update_text.txt','w') as f:\n",
    "        for i in data:\n",
    "            f.write(i + '\\n')\n",
    "except FileNotFoundError:\n",
    "    print('файл с таким именем не найден')"
   ]
  },
  {
   "cell_type": "code",
   "execution_count": null,
   "metadata": {},
   "outputs": [],
   "source": []
  }
 ],
 "metadata": {
  "kernelspec": {
   "display_name": "Python 3",
   "language": "python",
   "name": "python3"
  },
  "language_info": {
   "codemirror_mode": {
    "name": "ipython",
    "version": 3
   },
   "file_extension": ".py",
   "mimetype": "text/x-python",
   "name": "python",
   "nbconvert_exporter": "python",
   "pygments_lexer": "ipython3",
   "version": "3.7.4"
  }
 },
 "nbformat": 4,
 "nbformat_minor": 4
}
