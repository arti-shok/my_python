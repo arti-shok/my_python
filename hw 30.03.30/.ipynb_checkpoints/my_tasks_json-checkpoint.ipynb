{
 "cells": [
  {
   "cell_type": "code",
   "execution_count": null,
   "metadata": {},
   "outputs": [],
   "source": [
    "import json"
   ]
  },
  {
   "cell_type": "code",
   "execution_count": null,
   "metadata": {},
   "outputs": [],
   "source": [
    "with open('10_9.json','r') as f:\n",
    "    r = f.read()\n",
    "data = json.loads(r)"
   ]
  },
  {
   "cell_type": "code",
   "execution_count": null,
   "metadata": {},
   "outputs": [],
   "source": [
    "print(f'текущий список задач:\\n{data}\\n\\nпростой todo:\\n1. посмотреть задачи\\n2. добавить задачу\\n3. сохранить и выйти ')"
   ]
  },
  {
   "cell_type": "code",
   "execution_count": null,
   "metadata": {},
   "outputs": [],
   "source": [
    "key = int(input('введите ключ:'))\n",
    "while key != 3:\n",
    "    if key == 1:\n",
    "        for i in data:\n",
    "            print(f\"категория: {i['category']}, имя: {i['name']}, срок исполнения: {i['time']}\")\n",
    "        key = int(input('введите ключ: '))\n",
    "    elif key == 2:\n",
    "        name = input('сформулируйте задачу: ')\n",
    "        category = input('определите категорию: ')\n",
    "        time = input('обозначьте срок выполнения задачи: ')\n",
    "        data.append({'category': category, 'name': name, 'time': time})\n",
    "        key = int(input('введите ключ: '))\n",
    "    else:\n",
    "        print('неизвестный ключ\\n')\n",
    "else:\n",
    "    print('изенения сохранены')\n",
    "    with open('10_9.json','w') as f:\n",
    "        f.write(json.dumps(data))\n"
   ]
  }
 ],
 "metadata": {
  "kernelspec": {
   "display_name": "Python 3",
   "language": "python",
   "name": "python3"
  },
  "language_info": {
   "codemirror_mode": {
    "name": "ipython",
    "version": 3
   },
   "file_extension": ".py",
   "mimetype": "text/x-python",
   "name": "python",
   "nbconvert_exporter": "python",
   "pygments_lexer": "ipython3",
   "version": "3.7.4"
  }
 },
 "nbformat": 4,
 "nbformat_minor": 4
}
