{
 "cells": [
  {
   "cell_type": "code",
   "execution_count": 5,
   "metadata": {},
   "outputs": [],
   "source": [
    "data = []\n",
    "with open('moby_clean.txt','r') as f:\n",
    "    r = f.readlines()\n",
    "    for i in r:\n",
    "        data.append(i.strip('\\n'))"
   ]
  },
  {
   "cell_type": "code",
   "execution_count": 3,
   "metadata": {},
   "outputs": [],
   "source": [
    "def histogram(s):\n",
    "    '''\n",
    "    Функция для подсчета встречаемости элементов в коллекции s.\n",
    "    '''\n",
    "    word_count = {}\n",
    "    for word in s:\n",
    "        word_count.setdefault(word, 0)  # word_count[key] = 0, если такого key не было ранее\n",
    "        word_count[word] += 1 # word_count[word] = word_count[word] + 1        \n",
    "    return word_count"
   ]
  },
  {
   "cell_type": "code",
   "execution_count": 19,
   "metadata": {},
   "outputs": [
    {
     "name": "stdout",
     "output_type": "stream",
     "text": [
      "самые редкие:\n",
      "('call', 1)\n",
      "('ishmael', 1)\n",
      "('years', 1)\n",
      "('ago--never', 1)\n",
      "('mind', 1)\n",
      "('how', 1)\n",
      "\n",
      "\n",
      "самые частые:\n",
      "('is', 7)\n",
      "('of', 8)\n",
      "('and', 9)\n",
      "('i', 9)\n",
      "('the', 14)\n"
     ]
    }
   ],
   "source": [
    "d = histogram(data)\n",
    "lst = sorted(d.items(), key=lambda kv: kv[1])\n",
    "print('самые редкие:')\n",
    "for i in range(6):\n",
    "    print(lst[i])\n",
    "print('\\n\\nсамые частые:')\n",
    "for i in range(len(lst)-5,len(lst)):\n",
    "    print(lst[i])"
   ]
  },
  {
   "cell_type": "code",
   "execution_count": null,
   "metadata": {},
   "outputs": [],
   "source": []
  }
 ],
 "metadata": {
  "kernelspec": {
   "display_name": "Python 3",
   "language": "python",
   "name": "python3"
  },
  "language_info": {
   "codemirror_mode": {
    "name": "ipython",
    "version": 3
   },
   "file_extension": ".py",
   "mimetype": "text/x-python",
   "name": "python",
   "nbconvert_exporter": "python",
   "pygments_lexer": "ipython3",
   "version": "3.7.4"
  }
 },
 "nbformat": 4,
 "nbformat_minor": 4
}
