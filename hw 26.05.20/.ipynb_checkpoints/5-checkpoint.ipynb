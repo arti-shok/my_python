{
 "cells": [
  {
   "cell_type": "code",
   "execution_count": 9,
   "metadata": {},
   "outputs": [],
   "source": [
    "import pandas as pd\n",
    "from statistics import mean\n",
    "data = pd.read_csv('https://raw.githubusercontent.com/dm-fedorov/pandas_basic/master/data/it.csv')"
   ]
  },
  {
   "cell_type": "code",
   "execution_count": 10,
   "metadata": {},
   "outputs": [
    {
     "data": {
      "text/html": [
       "<div>\n",
       "<style scoped>\n",
       "    .dataframe tbody tr th:only-of-type {\n",
       "        vertical-align: middle;\n",
       "    }\n",
       "\n",
       "    .dataframe tbody tr th {\n",
       "        vertical-align: top;\n",
       "    }\n",
       "\n",
       "    .dataframe thead th {\n",
       "        text-align: right;\n",
       "    }\n",
       "</style>\n",
       "<table border=\"1\" class=\"dataframe\">\n",
       "  <thead>\n",
       "    <tr style=\"text-align: right;\">\n",
       "      <th></th>\n",
       "      <th>id</th>\n",
       "      <th>Дата рождения</th>\n",
       "      <th>Вакансия</th>\n",
       "      <th>Технология</th>\n",
       "      <th>Локация</th>\n",
       "      <th>З/п в валюте найма</th>\n",
       "    </tr>\n",
       "  </thead>\n",
       "  <tbody>\n",
       "    <tr>\n",
       "      <td>0</td>\n",
       "      <td>1</td>\n",
       "      <td>18.04.1994</td>\n",
       "      <td>Инженер-программист 2 категории</td>\n",
       "      <td>JS</td>\n",
       "      <td>Санкт-Петербург</td>\n",
       "      <td>140 000.00 ₽</td>\n",
       "    </tr>\n",
       "    <tr>\n",
       "      <td>1</td>\n",
       "      <td>2</td>\n",
       "      <td>27.03.1993</td>\n",
       "      <td>Разработчик информационных систем</td>\n",
       "      <td>.NET</td>\n",
       "      <td>Москва</td>\n",
       "      <td>130 000.00 ₽</td>\n",
       "    </tr>\n",
       "    <tr>\n",
       "      <td>2</td>\n",
       "      <td>3</td>\n",
       "      <td>24.11.1983</td>\n",
       "      <td>Java Developer</td>\n",
       "      <td>Java</td>\n",
       "      <td>Санкт-Петербург</td>\n",
       "      <td>200 000.00 ₽</td>\n",
       "    </tr>\n",
       "  </tbody>\n",
       "</table>\n",
       "</div>"
      ],
      "text/plain": [
       "   id Дата рождения                           Вакансия Технология  \\\n",
       "0   1    18.04.1994    Инженер-программист 2 категории         JS   \n",
       "1   2    27.03.1993  Разработчик информационных систем       .NET   \n",
       "2   3    24.11.1983                     Java Developer       Java   \n",
       "\n",
       "           Локация З/п в валюте найма  \n",
       "0  Санкт-Петербург       140 000.00 ₽  \n",
       "1           Москва       130 000.00 ₽  \n",
       "2  Санкт-Петербург       200 000.00 ₽  "
      ]
     },
     "execution_count": 10,
     "metadata": {},
     "output_type": "execute_result"
    }
   ],
   "source": [
    "data['З/п в валюте найма'] = data['З/п в валюте найма'].str.replace(\",\",\".\")\n",
    "data.head(3)"
   ]
  },
  {
   "cell_type": "code",
   "execution_count": 11,
   "metadata": {},
   "outputs": [],
   "source": [
    "dataR = data.loc[data['З/п в валюте найма'].str.contains(\"₽\")]"
   ]
  },
  {
   "cell_type": "code",
   "execution_count": 33,
   "metadata": {},
   "outputs": [
    {
     "name": "stderr",
     "output_type": "stream",
     "text": [
      "C:\\Users\\iriska\\Anaconda3\\lib\\site-packages\\ipykernel_launcher.py:2: SettingWithCopyWarning: \n",
      "A value is trying to be set on a copy of a slice from a DataFrame.\n",
      "Try using .loc[row_indexer,col_indexer] = value instead\n",
      "\n",
      "See the caveats in the documentation: http://pandas.pydata.org/pandas-docs/stable/user_guide/indexing.html#returning-a-view-versus-a-copy\n",
      "  \n"
     ]
    },
    {
     "data": {
      "text/html": [
       "<div>\n",
       "<style scoped>\n",
       "    .dataframe tbody tr th:only-of-type {\n",
       "        vertical-align: middle;\n",
       "    }\n",
       "\n",
       "    .dataframe tbody tr th {\n",
       "        vertical-align: top;\n",
       "    }\n",
       "\n",
       "    .dataframe thead th {\n",
       "        text-align: right;\n",
       "    }\n",
       "</style>\n",
       "<table border=\"1\" class=\"dataframe\">\n",
       "  <thead>\n",
       "    <tr style=\"text-align: right;\">\n",
       "      <th></th>\n",
       "      <th>id</th>\n",
       "      <th>Дата рождения</th>\n",
       "      <th>Вакансия</th>\n",
       "      <th>Технология</th>\n",
       "      <th>Локация</th>\n",
       "      <th>З/п в валюте найма</th>\n",
       "      <th>clear val</th>\n",
       "    </tr>\n",
       "  </thead>\n",
       "  <tbody>\n",
       "    <tr>\n",
       "      <td>0</td>\n",
       "      <td>1</td>\n",
       "      <td>18.04.1994</td>\n",
       "      <td>Инженер-программист 2 категории</td>\n",
       "      <td>JS</td>\n",
       "      <td>Санкт-Петербург</td>\n",
       "      <td>140 000.00 ₽</td>\n",
       "      <td>140000.0</td>\n",
       "    </tr>\n",
       "    <tr>\n",
       "      <td>1</td>\n",
       "      <td>2</td>\n",
       "      <td>27.03.1993</td>\n",
       "      <td>Разработчик информационных систем</td>\n",
       "      <td>.NET</td>\n",
       "      <td>Москва</td>\n",
       "      <td>130 000.00 ₽</td>\n",
       "      <td>130000.0</td>\n",
       "    </tr>\n",
       "    <tr>\n",
       "      <td>2</td>\n",
       "      <td>3</td>\n",
       "      <td>24.11.1983</td>\n",
       "      <td>Java Developer</td>\n",
       "      <td>Java</td>\n",
       "      <td>Санкт-Петербург</td>\n",
       "      <td>200 000.00 ₽</td>\n",
       "      <td>200000.0</td>\n",
       "    </tr>\n",
       "  </tbody>\n",
       "</table>\n",
       "</div>"
      ],
      "text/plain": [
       "   id Дата рождения                           Вакансия Технология  \\\n",
       "0   1    18.04.1994    Инженер-программист 2 категории         JS   \n",
       "1   2    27.03.1993  Разработчик информационных систем       .NET   \n",
       "2   3    24.11.1983                     Java Developer       Java   \n",
       "\n",
       "           Локация З/п в валюте найма  clear val  \n",
       "0  Санкт-Петербург       140 000.00 ₽   140000.0  \n",
       "1           Москва       130 000.00 ₽   130000.0  \n",
       "2  Санкт-Петербург       200 000.00 ₽   200000.0  "
      ]
     },
     "execution_count": 33,
     "metadata": {},
     "output_type": "execute_result"
    }
   ],
   "source": [
    "#я создаю новый столбец, но почему то выскакивает ошибка\n",
    "dataR['clear val'] = list(map(float, dataR['З/п в валюте найма'].str.replace(\"\\xa0\",\"\").str.replace(\" ₽\",\"\")))\n",
    "dataR.head(3)"
   ]
  },
  {
   "cell_type": "code",
   "execution_count": 32,
   "metadata": {},
   "outputs": [
    {
     "data": {
      "text/plain": [
       "190669.89488372093"
      ]
     },
     "execution_count": 32,
     "metadata": {},
     "output_type": "execute_result"
    }
   ],
   "source": [
    "#Определите среднюю з.п. по данным в рублях\n",
    "mean(dataR[\"clear val\"].values)"
   ]
  },
  {
   "cell_type": "code",
   "execution_count": 45,
   "metadata": {},
   "outputs": [
    {
     "data": {
      "text/plain": [
       "'.NET'"
      ]
     },
     "execution_count": 45,
     "metadata": {},
     "output_type": "execute_result"
    }
   ],
   "source": [
    "#Определите технологию с максимальной з.п. по данным в рублях\n",
    "tmp = dataR.groupby(['Технология'])['clear val'].max()\n",
    "maxVal = tmp[0]\n",
    "tmp.keys()[0]"
   ]
  },
  {
   "cell_type": "code",
   "execution_count": 69,
   "metadata": {},
   "outputs": [
    {
     "data": {
      "text/plain": [
       "[datetime.timedelta(days=13332),\n",
       " datetime.timedelta(days=17645),\n",
       " datetime.timedelta(days=10375),\n",
       " datetime.timedelta(days=11403)]"
      ]
     },
     "execution_count": 69,
     "metadata": {},
     "output_type": "execute_result"
    }
   ],
   "source": [
    "#Определите возраст программистов с максимальной з.п. по данным в рублях\n",
    "import datetime\n",
    "today = datetime.datetime.strptime('25.5.2020','%d.%m.%Y')\n",
    "[today - datetime.datetime.strptime(i,'%d.%m.%Y') for i in dataR.loc[dataR[\"clear val\"] == maxVal]['Дата рождения'].values]\n",
    "#возраст в днях, почему бы и нет?"
   ]
  },
  {
   "cell_type": "code",
   "execution_count": 72,
   "metadata": {},
   "outputs": [
    {
     "data": {
      "text/plain": [
       "4      172 413.00 ₽\n",
       "9       9 500.00 zł\n",
       "11     12 000.00 zł\n",
       "12     10 500.00 zł\n",
       "13      9 500.00 zł\n",
       "18     200 000.00 ₽\n",
       "19     135 000.00 ₽\n",
       "37     13 000.00 zł\n",
       "38      lev6 446.00\n",
       "39     Ft650 000.00\n",
       "54     80 000.00 Kč\n",
       "Name: З/п в валюте найма, dtype: object"
      ]
     },
     "execution_count": 72,
     "metadata": {},
     "output_type": "execute_result"
    }
   ],
   "source": [
    "#Определите зарплаты работников, у которых в названии вакансии встречается слово Engineer\n",
    "data.loc[data['Вакансия'].str.contains(\"Engineer\")]['З/п в валюте найма']"
   ]
  },
  {
   "cell_type": "code",
   "execution_count": null,
   "metadata": {},
   "outputs": [],
   "source": []
  }
 ],
 "metadata": {
  "kernelspec": {
   "display_name": "Python 3",
   "language": "python",
   "name": "python3"
  },
  "language_info": {
   "codemirror_mode": {
    "name": "ipython",
    "version": 3
   },
   "file_extension": ".py",
   "mimetype": "text/x-python",
   "name": "python",
   "nbconvert_exporter": "python",
   "pygments_lexer": "ipython3",
   "version": "3.7.4"
  }
 },
 "nbformat": 4,
 "nbformat_minor": 4
}
