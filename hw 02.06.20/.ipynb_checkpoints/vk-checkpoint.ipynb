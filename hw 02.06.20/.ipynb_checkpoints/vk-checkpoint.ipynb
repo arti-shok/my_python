{
 "cells": [
  {
   "cell_type": "code",
   "execution_count": 1,
   "metadata": {},
   "outputs": [
    {
     "data": {
      "text/html": [
       "<div>\n",
       "<style scoped>\n",
       "    .dataframe tbody tr th:only-of-type {\n",
       "        vertical-align: middle;\n",
       "    }\n",
       "\n",
       "    .dataframe tbody tr th {\n",
       "        vertical-align: top;\n",
       "    }\n",
       "\n",
       "    .dataframe thead th {\n",
       "        text-align: right;\n",
       "    }\n",
       "</style>\n",
       "<table border=\"1\" class=\"dataframe\">\n",
       "  <thead>\n",
       "    <tr style=\"text-align: right;\">\n",
       "      <th></th>\n",
       "      <th>Дата</th>\n",
       "      <th>Критерий</th>\n",
       "      <th>Парам. №1</th>\n",
       "      <th>Парам. №2</th>\n",
       "      <th>Значение</th>\n",
       "    </tr>\n",
       "  </thead>\n",
       "  <tbody>\n",
       "    <tr>\n",
       "      <td>0</td>\n",
       "      <td>15.03.2020</td>\n",
       "      <td>views</td>\n",
       "      <td>NaN</td>\n",
       "      <td>NaN</td>\n",
       "      <td>4</td>\n",
       "    </tr>\n",
       "    <tr>\n",
       "      <td>1</td>\n",
       "      <td>15.03.2020</td>\n",
       "      <td>visitors</td>\n",
       "      <td>NaN</td>\n",
       "      <td>NaN</td>\n",
       "      <td>3</td>\n",
       "    </tr>\n",
       "    <tr>\n",
       "      <td>2</td>\n",
       "      <td>15.03.2020</td>\n",
       "      <td>gender</td>\n",
       "      <td>М</td>\n",
       "      <td>NaN</td>\n",
       "      <td>3</td>\n",
       "    </tr>\n",
       "  </tbody>\n",
       "</table>\n",
       "</div>"
      ],
      "text/plain": [
       "         Дата  Критерий Парам. №1 Парам. №2  Значение\n",
       "0  15.03.2020     views       NaN       NaN         4\n",
       "1  15.03.2020  visitors       NaN       NaN         3\n",
       "2  15.03.2020    gender         М       NaN         3"
      ]
     },
     "execution_count": 1,
     "metadata": {},
     "output_type": "execute_result"
    }
   ],
   "source": [
    "import pandas as pd\n",
    "df = pd.read_csv(\"https://raw.githubusercontent.com/dm-fedorov/python_basic/master/data/vkontakte_group_01_2016-08-01_2020-03-15.csv\")\n",
    "df.head(3)"
   ]
  },
  {
   "cell_type": "markdown",
   "metadata": {},
   "source": [
    "Задание 1."
   ]
  },
  {
   "cell_type": "code",
   "execution_count": 14,
   "metadata": {},
   "outputs": [],
   "source": [
    "df[\"year\"] = [i[6::] for i in df[\"Дата\"].values]"
   ]
  },
  {
   "cell_type": "code",
   "execution_count": 16,
   "metadata": {},
   "outputs": [
    {
     "data": {
      "text/html": [
       "<div>\n",
       "<style scoped>\n",
       "    .dataframe tbody tr th:only-of-type {\n",
       "        vertical-align: middle;\n",
       "    }\n",
       "\n",
       "    .dataframe tbody tr th {\n",
       "        vertical-align: top;\n",
       "    }\n",
       "\n",
       "    .dataframe thead th {\n",
       "        text-align: right;\n",
       "    }\n",
       "</style>\n",
       "<table border=\"1\" class=\"dataframe\">\n",
       "  <thead>\n",
       "    <tr style=\"text-align: right;\">\n",
       "      <th></th>\n",
       "      <th>Дата</th>\n",
       "      <th>Критерий</th>\n",
       "      <th>Парам. №1</th>\n",
       "      <th>Парам. №2</th>\n",
       "      <th>Значение</th>\n",
       "      <th>year</th>\n",
       "    </tr>\n",
       "  </thead>\n",
       "  <tbody>\n",
       "    <tr>\n",
       "      <td>0</td>\n",
       "      <td>15.03.2020</td>\n",
       "      <td>views</td>\n",
       "      <td>NaN</td>\n",
       "      <td>NaN</td>\n",
       "      <td>4</td>\n",
       "      <td>2020</td>\n",
       "    </tr>\n",
       "    <tr>\n",
       "      <td>1</td>\n",
       "      <td>15.03.2020</td>\n",
       "      <td>visitors</td>\n",
       "      <td>NaN</td>\n",
       "      <td>NaN</td>\n",
       "      <td>3</td>\n",
       "      <td>2020</td>\n",
       "    </tr>\n",
       "    <tr>\n",
       "      <td>2</td>\n",
       "      <td>15.03.2020</td>\n",
       "      <td>gender</td>\n",
       "      <td>М</td>\n",
       "      <td>NaN</td>\n",
       "      <td>3</td>\n",
       "      <td>2020</td>\n",
       "    </tr>\n",
       "  </tbody>\n",
       "</table>\n",
       "</div>"
      ],
      "text/plain": [
       "         Дата  Критерий Парам. №1 Парам. №2  Значение  year\n",
       "0  15.03.2020     views       NaN       NaN         4  2020\n",
       "1  15.03.2020  visitors       NaN       NaN         3  2020\n",
       "2  15.03.2020    gender         М       NaN         3  2020"
      ]
     },
     "execution_count": 16,
     "metadata": {},
     "output_type": "execute_result"
    }
   ],
   "source": [
    "df.head(3)"
   ]
  },
  {
   "cell_type": "code",
   "execution_count": 38,
   "metadata": {},
   "outputs": [
    {
     "data": {
      "text/plain": [
       "year\n",
       "2016     7199\n",
       "2017    11872\n",
       "2018     7055\n",
       "2019     8754\n",
       "2020     1444\n",
       "Name: Значение, dtype: int64"
      ]
     },
     "execution_count": 38,
     "metadata": {},
     "output_type": "execute_result"
    }
   ],
   "source": [
    "#views\n",
    "df.loc[df[\"Критерий\"] == \"views\"].groupby([\"year\"])[\"Значение\"].sum()"
   ]
  },
  {
   "cell_type": "code",
   "execution_count": 39,
   "metadata": {},
   "outputs": [
    {
     "data": {
      "text/plain": [
       "year\n",
       "2016    5254\n",
       "2017    8524\n",
       "2018    5117\n",
       "2019    5733\n",
       "2020     956\n",
       "Name: Значение, dtype: int64"
      ]
     },
     "execution_count": 39,
     "metadata": {},
     "output_type": "execute_result"
    }
   ],
   "source": [
    "#visitors\n",
    "df.loc[df[\"Критерий\"] == \"visitors\"].groupby([\"year\"])[\"Значение\"].sum()"
   ]
  },
  {
   "cell_type": "markdown",
   "metadata": {},
   "source": [
    "Задание 2."
   ]
  },
  {
   "cell_type": "code",
   "execution_count": 87,
   "metadata": {},
   "outputs": [
    {
     "data": {
      "text/plain": [
       "year\n",
       "2016    15672\n",
       "2017    27479\n",
       "2018    12539\n",
       "2019    21185\n",
       "2020     1656\n",
       "Name: Значение, dtype: int64"
      ]
     },
     "execution_count": 87,
     "metadata": {},
     "output_type": "execute_result"
    }
   ],
   "source": [
    "#reach\n",
    "df.loc[df[\"Критерий\"] == \"reach\"].groupby([\"year\"])[\"Значение\"].sum()"
   ]
  },
  {
   "cell_type": "code",
   "execution_count": 88,
   "metadata": {},
   "outputs": [
    {
     "data": {
      "text/plain": [
       "year\n",
       "2016    3522\n",
       "2017    4487\n",
       "2018    2125\n",
       "2019    9568\n",
       "2020     536\n",
       "Name: Значение, dtype: int64"
      ]
     },
     "execution_count": 88,
     "metadata": {},
     "output_type": "execute_result"
    }
   ],
   "source": [
    "#reach_subscribers\n",
    "df.loc[df[\"Критерий\"] == \"reach_subscribers\"].groupby([\"year\"])[\"Значение\"].sum()"
   ]
  },
  {
   "cell_type": "markdown",
   "metadata": {},
   "source": [
    "Задание 3."
   ]
  },
  {
   "cell_type": "code",
   "execution_count": 43,
   "metadata": {},
   "outputs": [
    {
     "data": {
      "text/plain": [
       "М    0.502853\n",
       "Ж    0.497147\n",
       "Name: Парам. №1, dtype: float64"
      ]
     },
     "execution_count": 43,
     "metadata": {},
     "output_type": "execute_result"
    }
   ],
   "source": [
    "#gender\n",
    "df.loc[df[\"Критерий\"] == \"gender\"][\"Парам. №1\"].value_counts(normalize = True)"
   ]
  },
  {
   "cell_type": "code",
   "execution_count": 86,
   "metadata": {},
   "outputs": [
    {
     "data": {
      "text/plain": [
       "Парам. №1\n",
       "1-18      741\n",
       "24-27    1751\n",
       "45+      2350\n",
       "35-45    2402\n",
       "27-30    2419\n",
       "21-24    2560\n",
       "18-21    3046\n",
       "30-35    3466\n",
       "Name: Значение, dtype: int64"
      ]
     },
     "execution_count": 86,
     "metadata": {},
     "output_type": "execute_result"
    }
   ],
   "source": [
    "#age\n",
    "df.loc[df[\"Критерий\"] == \"age\"].groupby([\"Парам. №1\"])[\"Значение\"].sum().sort_values()"
   ]
  },
  {
   "cell_type": "code",
   "execution_count": 75,
   "metadata": {},
   "outputs": [
    {
     "data": {
      "text/plain": [
       "Парам. №1  Парам. №2\n",
       "Ж          18-21         939\n",
       "           21-24         808\n",
       "           45+           744\n",
       "           35-45         659\n",
       "           24-27         612\n",
       "           30-35         582\n",
       "           27-30         495\n",
       "           1-18          426\n",
       "М          30-35        1095\n",
       "           27-30         990\n",
       "           35-45         783\n",
       "           45+           718\n",
       "           21-24         693\n",
       "           18-21         649\n",
       "           24-27         574\n",
       "           1-18          184\n",
       "Name: Парам. №2, dtype: int64"
      ]
     },
     "execution_count": 75,
     "metadata": {},
     "output_type": "execute_result"
    }
   ],
   "source": [
    "#gender_age\n",
    "df.loc[df[\"Критерий\"] == \"gender_age\"].groupby([\"Парам. №1\"])[\"Парам. №2\"].value_counts()"
   ]
  },
  {
   "cell_type": "code",
   "execution_count": 85,
   "metadata": {},
   "outputs": [
    {
     "data": {
      "text/plain": [
       "Парам. №1\n",
       "Австралия                          1\n",
       "Кот-д'Ивуар                        1\n",
       "Кувейт                             1\n",
       "Южно-Африканская Республика        1\n",
       "Непал                              1\n",
       "                               ...  \n",
       "Казахстан                        290\n",
       "США                              340\n",
       "Беларусь                         506\n",
       "Украина                          994\n",
       "Россия                         22367\n",
       "Name: Значение, Length: 70, dtype: int64"
      ]
     },
     "execution_count": 85,
     "metadata": {},
     "output_type": "execute_result"
    }
   ],
   "source": [
    "#countries\n",
    "df.loc[df[\"Критерий\"] == \"countries\"].groupby([\"Парам. №1\"])[\"Значение\"].sum().sort_values(ascending=True)"
   ]
  },
  {
   "cell_type": "markdown",
   "metadata": {},
   "source": [
    "Задание 4."
   ]
  },
  {
   "cell_type": "markdown",
   "metadata": {},
   "source": [
    "анализируя полученные данные, можно сделать следующие выводы:\n",
    "\n",
    "1)скачок числа просмотров и посетителей наблюдается в 2017 году, за остальные года наблюдаются примерно лдиныковые показатели, что свидетельствует о том, что данная группа не развивается, но и не деградирует;\n",
    "\n",
    "2)однако если смотреть на следующие таблицы, то наблюдается как прирост подписчиков, так и расширение общего охвата, что свидетельствует о отм, что группа развивается;\n",
    "\n",
    "3)процентное соотношение мужчин и женщин среди посетителей примерно одинаковое, значит, в качетсве целевой аудитории можно выбирать и тех, и других;\n",
    "\n",
    "4)если анализировать исключительно возраст, игнорируя пол, то самые обширные возрастные группы - 18-24 и 30-35 лет;\n",
    "\n",
    "5)если принимать во внимание пол, то среди женщин самыми обширными возрастными группами являются 18-24 и 45+, а среди мужчин - 27-45;\n",
    "\n",
    "6)как показывает последняя таблица, большинство посетителей - из стран СНГ."
   ]
  },
  {
   "cell_type": "markdown",
   "metadata": {},
   "source": [
    "Задание 5."
   ]
  },
  {
   "cell_type": "markdown",
   "metadata": {},
   "source": [
    "подходит ли данная группа для продвижения нового товара среди активных пользователей из России моложе 30 лет?\n",
    "\n",
    "однозначно, да. это подтвержают выводы, приведенные выше. во-первых, подавляющее большинство пользователей - из России - то, что нужно. \n",
    "во-вторых, как показывает анализ возрастных групп, самые активные из них - в том числе группы людей, моложе 30 лет. в-третьих, как так соотношение количества мужчин и женщин практически одинаково, это позволяет охватить сразу обе группы, что пойдет нам на руку."
   ]
  },
  {
   "cell_type": "code",
   "execution_count": null,
   "metadata": {},
   "outputs": [],
   "source": []
  }
 ],
 "metadata": {
  "kernelspec": {
   "display_name": "Python 3",
   "language": "python",
   "name": "python3"
  },
  "language_info": {
   "codemirror_mode": {
    "name": "ipython",
    "version": 3
   },
   "file_extension": ".py",
   "mimetype": "text/x-python",
   "name": "python",
   "nbconvert_exporter": "python",
   "pygments_lexer": "ipython3",
   "version": "3.7.4"
  }
 },
 "nbformat": 4,
 "nbformat_minor": 4
}
