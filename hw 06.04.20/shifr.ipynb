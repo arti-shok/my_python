{
 "cells": [
  {
   "cell_type": "code",
   "execution_count": 61,
   "metadata": {},
   "outputs": [],
   "source": [
    "codes = {'a': '1','b': '2', 'c': '3', 'd': '4', 'e': '5', 'f': '6', 'g': '7', 'h': '8',\n",
    "        'i': '9', 'j': '0', 'k': '!', 'l': '@', 'm': '#', 'n': '$', 'o': '%', 'p': '&','q': '~',\n",
    "        'r': '№', 's': '?', 't': '`', 'u': '(', 'v': ')','w': '*', 'x': '_', 'y': '-', 'z': '+',\n",
    "        ',': '=', '?': '.', '\"': '/',' ': '>', '\\n': '<'}"
   ]
  },
  {
   "cell_type": "code",
   "execution_count": 74,
   "metadata": {},
   "outputs": [],
   "source": [
    "decodes = {v:k for k, v in codes.items()}"
   ]
  },
  {
   "cell_type": "code",
   "execution_count": 70,
   "metadata": {},
   "outputs": [],
   "source": [
    "def code(name_from, name_to, codes):\n",
    "    new = []\n",
    "    with open(name_from,'r') as f:\n",
    "        r = list(f.read().lower())\n",
    "    for i in r:\n",
    "        new.append(codes[i])\n",
    "    with open(name_to,'w') as f:\n",
    "        for i in new:\n",
    "            f.write(i)"
   ]
  },
  {
   "cell_type": "code",
   "execution_count": 71,
   "metadata": {},
   "outputs": [],
   "source": [
    "code('10_10_code.txt','10_10_decode.txt',codes)"
   ]
  },
  {
   "cell_type": "code",
   "execution_count": 98,
   "metadata": {},
   "outputs": [],
   "source": [
    "def decode(name, decodes):\n",
    "    new = []\n",
    "    with open(name,'r') as f:\n",
    "        r = list(f.read().lower())\n",
    "    for i in r:\n",
    "        new.append(decodes[i])\n",
    "    print(''.join(new))"
   ]
  },
  {
   "cell_type": "code",
   "execution_count": 99,
   "metadata": {},
   "outputs": [
    {
     "name": "stdout",
     "output_type": "stream",
     "text": [
      "she asked me, \"son, when i grow old\n",
      "will you buy me a house of gold?\n",
      "and when your father turns to stone\n",
      "will you take care of me?\"\n"
     ]
    }
   ],
   "source": [
    "decode('10_10_decode.txt',decodes)"
   ]
  },
  {
   "cell_type": "code",
   "execution_count": null,
   "metadata": {},
   "outputs": [],
   "source": []
  }
 ],
 "metadata": {
  "kernelspec": {
   "display_name": "Python 3",
   "language": "python",
   "name": "python3"
  },
  "language_info": {
   "codemirror_mode": {
    "name": "ipython",
    "version": 3
   },
   "file_extension": ".py",
   "mimetype": "text/x-python",
   "name": "python",
   "nbconvert_exporter": "python",
   "pygments_lexer": "ipython3",
   "version": "3.7.4"
  }
 },
 "nbformat": 4,
 "nbformat_minor": 4
}
