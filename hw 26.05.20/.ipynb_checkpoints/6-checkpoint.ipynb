{
 "cells": [
  {
   "cell_type": "code",
   "execution_count": 1,
   "metadata": {},
   "outputs": [
    {
     "data": {
      "text/plain": [
       "<Response [200]>"
      ]
     },
     "execution_count": 1,
     "metadata": {},
     "output_type": "execute_result"
    }
   ],
   "source": [
    "import requests  \n",
    "response = requests.get('https://epic.gsfc.nasa.gov/api/images.php?api_key=DEMO_KEY') \n",
    "response"
   ]
  },
  {
   "cell_type": "code",
   "execution_count": 2,
   "metadata": {},
   "outputs": [
    {
     "data": {
      "text/plain": [
       "'[{\"identifier\":\"20200523004555\",\"caption\":\"This image was taken by NASA\\'s EPIC camera onboard the NOAA DSCOVR spacecraft\",\"image\":\"epic_1b_20200523004555\",\"version\":\"03\",\"centroid_coordinates\":{\"lat\":24.499511999999999,\"lon\":176.04492200000001},\"dscovr_j2000_position\":{\"x\":530087.77275600005,\"y\":1327604.986942,\"z\":651499.94643000001},\"lunar_j2000_position\":{\"x\":164802.777821,\"y\":336717.197721,\"z\":130241.938027},\"sun_j2000_position\":{\"x\":70914516.763970003,\"y\":122809605.27429,\"z\":53237337.5999860'"
      ]
     },
     "execution_count": 2,
     "metadata": {},
     "output_type": "execute_result"
    }
   ],
   "source": [
    "response.text[:500]"
   ]
  },
  {
   "cell_type": "code",
   "execution_count": 4,
   "metadata": {},
   "outputs": [
    {
     "data": {
      "text/plain": [
       "{'identifier': '20200523004555',\n",
       " 'caption': \"This image was taken by NASA's EPIC camera onboard the NOAA DSCOVR spacecraft\",\n",
       " 'image': 'epic_1b_20200523004555',\n",
       " 'version': '03',\n",
       " 'centroid_coordinates': {'lat': 24.499512, 'lon': 176.044922},\n",
       " 'dscovr_j2000_position': {'x': 530087.772756,\n",
       "  'y': 1327604.986942,\n",
       "  'z': 651499.94643},\n",
       " 'lunar_j2000_position': {'x': 164802.777821,\n",
       "  'y': 336717.197721,\n",
       "  'z': 130241.938027},\n",
       " 'sun_j2000_position': {'x': 70914516.76397,\n",
       "  'y': 122809605.27429,\n",
       "  'z': 53237337.599986},\n",
       " 'attitude_quaternions': {'q0': 0.44061,\n",
       "  'q1': -0.33014,\n",
       "  'q2': -0.748129,\n",
       "  'q3': 0.37037},\n",
       " 'date': '2020-05-23 00:41:06',\n",
       " 'coords': {'centroid_coordinates': {'lat': 24.499512, 'lon': 176.044922},\n",
       "  'dscovr_j2000_position': {'x': 530087.772756,\n",
       "   'y': 1327604.986942,\n",
       "   'z': 651499.94643},\n",
       "  'lunar_j2000_position': {'x': 164802.777821,\n",
       "   'y': 336717.197721,\n",
       "   'z': 130241.938027},\n",
       "  'sun_j2000_position': {'x': 70914516.76397,\n",
       "   'y': 122809605.27429,\n",
       "   'z': 53237337.599986},\n",
       "  'attitude_quaternions': {'q0': 0.44061,\n",
       "   'q1': -0.33014,\n",
       "   'q2': -0.748129,\n",
       "   'q3': 0.37037}}}"
      ]
     },
     "execution_count": 4,
     "metadata": {},
     "output_type": "execute_result"
    }
   ],
   "source": [
    "import json\n",
    "lst = json.loads(response.text)\n",
    "lst[0]"
   ]
  },
  {
   "cell_type": "code",
   "execution_count": 5,
   "metadata": {},
   "outputs": [
    {
     "data": {
      "text/plain": [
       "'https://epic.gsfc.nasa.gov/epic-archive/jpg/epic_1b_20200523004555.jpg'"
      ]
     },
     "execution_count": 5,
     "metadata": {},
     "output_type": "execute_result"
    }
   ],
   "source": [
    "pic = 'https://epic.gsfc.nasa.gov/epic-archive/jpg/' + lst[0]['image'] + '.jpg'\n",
    "pic"
   ]
  },
  {
   "cell_type": "code",
   "execution_count": 6,
   "metadata": {},
   "outputs": [
    {
     "data": {
      "text/html": [
       "<img src=\"https://epic.gsfc.nasa.gov/epic-archive/jpg/epic_1b_20200523004555.jpg\"/>"
      ],
      "text/plain": [
       "<IPython.core.display.Image object>"
      ]
     },
     "metadata": {},
     "output_type": "display_data"
    }
   ],
   "source": [
    "from IPython.display import Image\n",
    "# https://ipython.org/ipython-doc/3/api/generated/IPython.display.html\n",
    "\n",
    "display(Image(url=pic))"
   ]
  },
  {
   "cell_type": "code",
   "execution_count": null,
   "metadata": {},
   "outputs": [],
   "source": []
  }
 ],
 "metadata": {
  "kernelspec": {
   "display_name": "Python 3",
   "language": "python",
   "name": "python3"
  },
  "language_info": {
   "codemirror_mode": {
    "name": "ipython",
    "version": 3
   },
   "file_extension": ".py",
   "mimetype": "text/x-python",
   "name": "python",
   "nbconvert_exporter": "python",
   "pygments_lexer": "ipython3",
   "version": "3.7.4"
  }
 },
 "nbformat": 4,
 "nbformat_minor": 4
}
