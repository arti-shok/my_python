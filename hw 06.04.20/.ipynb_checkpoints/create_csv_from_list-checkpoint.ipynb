{
 "cells": [
  {
   "cell_type": "code",
   "execution_count": 96,
   "metadata": {},
   "outputs": [],
   "source": [
    "lst = [('Георгий', 'Невский проспект', '22'), ('Иван', 'пр. Ветеранов', '21')] "
   ]
  },
  {
   "cell_type": "code",
   "execution_count": 91,
   "metadata": {},
   "outputs": [],
   "source": [
    "def write_csv_file(name, lst):\n",
    "    data = [i[j] for i in lst for j in range(len(i))]\n",
    "    if len(data)%3 ==0:\n",
    "        data = [','.join(data[i:i+3]) for i in range(0,len(data),3)]\n",
    "        data.insert(0,'name,address,age')\n",
    "        try:\n",
    "            with open(name,'w') as f:\n",
    "                for i in data:\n",
    "                    f.write(i+'\\n')\n",
    "        except FileNotFoundError:\n",
    "            print('название файла не может быть пустым')\n",
    "    else:\n",
    "        print('неверный формат списка')"
   ]
  },
  {
   "cell_type": "code",
   "execution_count": 95,
   "metadata": {},
   "outputs": [
    {
     "name": "stdout",
     "output_type": "stream",
     "text": [
      "неверный формат списка\n"
     ]
    }
   ],
   "source": [
    "write_csv_file('10_6_csv.txt',lst)"
   ]
  }
 ],
 "metadata": {
  "kernelspec": {
   "display_name": "Python 3",
   "language": "python",
   "name": "python3"
  },
  "language_info": {
   "codemirror_mode": {
    "name": "ipython",
    "version": 3
   },
   "file_extension": ".py",
   "mimetype": "text/x-python",
   "name": "python",
   "nbconvert_exporter": "python",
   "pygments_lexer": "ipython3",
   "version": "3.7.4"
  }
 },
 "nbformat": 4,
 "nbformat_minor": 4
}
