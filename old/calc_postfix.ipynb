{
 "cells": [
  {
   "cell_type": "code",
   "execution_count": 7,
   "metadata": {},
   "outputs": [],
   "source": [
    "def calc(expr):\n",
    "    stack = []\n",
    "    for i in expr.split():\n",
    "        if i.isdigit():\n",
    "            stack.append(i)\n",
    "        elif i == \"+\":\n",
    "            a = int(stack.pop())\n",
    "            b = int(stack.pop())\n",
    "            stack.append(str(b+a))\n",
    "        elif i == \"-\":\n",
    "            a = int(stack.pop())\n",
    "            b = int(stack.pop())\n",
    "            stack.append(str(b-a))\n",
    "        elif i == \"*\":\n",
    "            a = int(stack.pop())\n",
    "            b = int(stack.pop())\n",
    "            stack.append(str(b*a))\n",
    "    return int(stack[0])"
   ]
  },
  {
   "cell_type": "code",
   "execution_count": 8,
   "metadata": {},
   "outputs": [
    {
     "data": {
      "text/plain": [
       "15"
      ]
     },
     "execution_count": 8,
     "metadata": {},
     "output_type": "execute_result"
    }
   ],
   "source": [
    "calc('1 2 + 4 * 3 +')"
   ]
  },
  {
   "cell_type": "code",
   "execution_count": null,
   "metadata": {},
   "outputs": [],
   "source": []
  }
 ],
 "metadata": {
  "kernelspec": {
   "display_name": "Python 3",
   "language": "python",
   "name": "python3"
  },
  "language_info": {
   "codemirror_mode": {
    "name": "ipython",
    "version": 3
   },
   "file_extension": ".py",
   "mimetype": "text/x-python",
   "name": "python",
   "nbconvert_exporter": "python",
   "pygments_lexer": "ipython3",
   "version": "3.7.4"
  }
 },
 "nbformat": 4,
 "nbformat_minor": 4
}
