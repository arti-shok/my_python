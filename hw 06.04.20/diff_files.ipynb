{
 "cells": [
  {
   "cell_type": "code",
   "execution_count": 21,
   "metadata": {},
   "outputs": [],
   "source": [
    "def delete_dubl(x):\n",
    "    return list(dict.fromkeys(x))"
   ]
  },
  {
   "cell_type": "code",
   "execution_count": 68,
   "metadata": {},
   "outputs": [],
   "source": [
    "def file_analysis(name1, name2):\n",
    "    with open(name1,'r') as f1:\n",
    "        r1 = f1.read().split()\n",
    "    with open(name2,'r') as f2:\n",
    "        r2 = f2.read().split()\n",
    "    w1 = delete_dubl([x.strip(',. ') for x in r1])\n",
    "    w2 = delete_dubl([x.strip(',. ') for x in r2])\n",
    "    print(f'общий спиок уникальных слов: {delete_dubl(w1+w2)}\\n\\nперечение: {[x for x in w1 if x in w2]}\\n\\nw1\\w2 : {[x for x in w1 if not x in w2]}\\n\\nw2\\w1 : {[x for x in w2 if not x in w1]}\\n\\nw1/\\w2: {[x for x in w1 if not x in w2]+[x for x in w2 if not x in w1]}')\n",
    "    "
   ]
  },
  {
   "cell_type": "code",
   "execution_count": 69,
   "metadata": {},
   "outputs": [
    {
     "name": "stdout",
     "output_type": "stream",
     "text": [
      "общий спиок уникальных слов: ['I', 'just', 'wanna', 'stay', 'in', 'the', 'sun', 'where', 'find', 'know', \"it's\", 'hard', 'sometimes', 'Pieces', 'of', 'peace', \"sun's\", 'mind', 'Yeah', 'think', 'about', 'end', 'way', 'too', 'much', 'But', 'fun', 'to', 'fantasize', 'On', 'my', 'enemies', \"wouldn't\", 'wish', 'who', 'was']\n",
      "\n",
      "перечение: ['I', 'just', 'the', \"it's\"]\n",
      "\n",
      "w1\\w2 : ['wanna', 'stay', 'in', 'sun', 'where', 'find', 'know', 'hard', 'sometimes', 'Pieces', 'of', 'peace', \"sun's\", 'mind']\n",
      "\n",
      "w2\\w1 : ['Yeah', 'think', 'about', 'end', 'way', 'too', 'much', 'But', 'fun', 'to', 'fantasize', 'On', 'my', 'enemies', \"wouldn't\", 'wish', 'who', 'was']\n",
      "\n",
      "w1/\\w2: ['wanna', 'stay', 'in', 'sun', 'where', 'find', 'know', 'hard', 'sometimes', 'Pieces', 'of', 'peace', \"sun's\", 'mind', 'Yeah', 'think', 'about', 'end', 'way', 'too', 'much', 'But', 'fun', 'to', 'fantasize', 'On', 'my', 'enemies', \"wouldn't\", 'wish', 'who', 'was']\n"
     ]
    }
   ],
   "source": [
    "file_analysis('10_11_1.txt','10_11_2.txt')"
   ]
  },
  {
   "cell_type": "code",
   "execution_count": 46,
   "metadata": {},
   "outputs": [
    {
     "data": {
      "text/plain": [
       "['I',\n",
       " 'just',\n",
       " 'wanna',\n",
       " 'stay',\n",
       " 'in',\n",
       " 'the',\n",
       " 'sun',\n",
       " 'where',\n",
       " 'find',\n",
       " 'know',\n",
       " \"it's\",\n",
       " 'hard',\n",
       " 'sometimes',\n",
       " 'Pieces',\n",
       " 'of',\n",
       " 'peace',\n",
       " \"sun's\",\n",
       " 'mind',\n",
       " 'Yeah',\n",
       " 'I',\n",
       " 'think',\n",
       " 'about',\n",
       " 'the',\n",
       " 'end',\n",
       " 'just',\n",
       " 'way',\n",
       " 'too',\n",
       " 'much',\n",
       " 'But',\n",
       " \"it's\",\n",
       " 'fun',\n",
       " 'to',\n",
       " 'fantasize',\n",
       " 'On',\n",
       " 'my',\n",
       " 'enemies',\n",
       " \"wouldn't\",\n",
       " 'wish',\n",
       " 'who',\n",
       " 'was']"
      ]
     },
     "execution_count": 46,
     "metadata": {},
     "output_type": "execute_result"
    }
   ],
   "source": [
    "w1+w2"
   ]
  },
  {
   "cell_type": "code",
   "execution_count": 45,
   "metadata": {},
   "outputs": [
    {
     "data": {
      "text/plain": [
       "['Yeah',\n",
       " 'I',\n",
       " 'think',\n",
       " 'about',\n",
       " 'the',\n",
       " 'end',\n",
       " 'just',\n",
       " 'way',\n",
       " 'too',\n",
       " 'much',\n",
       " 'But',\n",
       " \"it's\",\n",
       " 'fun',\n",
       " 'to',\n",
       " 'fantasize',\n",
       " 'On',\n",
       " 'my',\n",
       " 'enemies',\n",
       " \"wouldn't\",\n",
       " 'wish',\n",
       " 'who',\n",
       " 'was']"
      ]
     },
     "execution_count": 45,
     "metadata": {},
     "output_type": "execute_result"
    }
   ],
   "source": [
    "w2"
   ]
  },
  {
   "cell_type": "code",
   "execution_count": null,
   "metadata": {},
   "outputs": [],
   "source": []
  }
 ],
 "metadata": {
  "kernelspec": {
   "display_name": "Python 3",
   "language": "python",
   "name": "python3"
  },
  "language_info": {
   "codemirror_mode": {
    "name": "ipython",
    "version": 3
   },
   "file_extension": ".py",
   "mimetype": "text/x-python",
   "name": "python",
   "nbconvert_exporter": "python",
   "pygments_lexer": "ipython3",
   "version": "3.7.4"
  }
 },
 "nbformat": 4,
 "nbformat_minor": 4
}
