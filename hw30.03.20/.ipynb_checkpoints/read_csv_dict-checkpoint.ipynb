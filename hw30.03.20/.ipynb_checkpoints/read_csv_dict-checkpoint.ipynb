{
 "cells": [
  {
   "cell_type": "code",
   "execution_count": 1,
   "metadata": {},
   "outputs": [],
   "source": [
    "import csv"
   ]
  },
  {
   "cell_type": "code",
   "execution_count": 59,
   "metadata": {},
   "outputs": [],
   "source": [
    "def read_csv_dict(name):\n",
    "    try:\n",
    "        with open(name,'r') as f:\n",
    "            r = list(csv.reader(f))\n",
    "            keys = r[0]\n",
    "            data = []\n",
    "            for i in r[1:]:\n",
    "                data.append({keys[0]: i[0], keys[1]: i[1], keys[2]: i[2]})\n",
    "            return data\n",
    "    except FileNotFoundError:\n",
    "        print('файл с таким именем не найден')"
   ]
  },
  {
   "cell_type": "code",
   "execution_count": 60,
   "metadata": {},
   "outputs": [
    {
     "data": {
      "text/plain": [
       "[{'name': 'Георгий', 'address': 'Невский проспект', 'age': '22'},\n",
       " {'name': 'Иван', 'address': 'пр. Ветеранов', 'age': '21'}]"
      ]
     },
     "execution_count": 60,
     "metadata": {},
     "output_type": "execute_result"
    }
   ],
   "source": [
    "read_csv_dict('10_6_csv.txt')"
   ]
  },
  {
   "cell_type": "code",
   "execution_count": null,
   "metadata": {},
   "outputs": [],
   "source": []
  }
 ],
 "metadata": {
  "kernelspec": {
   "display_name": "Python 3",
   "language": "python",
   "name": "python3"
  },
  "language_info": {
   "codemirror_mode": {
    "name": "ipython",
    "version": 3
   },
   "file_extension": ".py",
   "mimetype": "text/x-python",
   "name": "python",
   "nbconvert_exporter": "python",
   "pygments_lexer": "ipython3",
   "version": "3.7.4"
  }
 },
 "nbformat": 4,
 "nbformat_minor": 4
}
