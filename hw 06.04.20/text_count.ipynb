{
 "cells": [
  {
   "cell_type": "code",
   "execution_count": 4,
   "metadata": {},
   "outputs": [
    {
     "name": "stdout",
     "output_type": "stream",
     "text": [
      "среднее количество слов в расчете на предложение: 26.0\n",
      "\n",
      "количество букв в файле в верхнем регистре: 29\n",
      "\n",
      "количество букв в файле в нижнем регистре: 1228\n",
      "\n",
      "количество цифр в файле: 30\n",
      "\n",
      "количество пробельных символов в файле: 260\n"
     ]
    }
   ],
   "source": [
    "data = []\n",
    "try:\n",
    "    with open('data_text.txt','r') as f:\n",
    "        r = f.readlines()\n",
    "    for i in r:\n",
    "        data.append(i)\n",
    "    temp = [x.split() for x in data] \n",
    "    data = [x for x in data]\n",
    "    data_all = [x[i] for x in data for i in range(len(x))]\n",
    "    print(f'среднее количество слов в расчете на предложение: {sum(list(map(len,temp)))/len(temp)}\\n')\n",
    "    cU = 0\n",
    "    cL = 0\n",
    "    cN = 0\n",
    "    cS = 0\n",
    "    for i in data_all:\n",
    "        for j in range(len(i)):\n",
    "            if i[j].isupper():\n",
    "                cU +=1\n",
    "            elif i[j].islower():\n",
    "                cL +=1\n",
    "            elif i[j].isnumeric():\n",
    "                cN +=1\n",
    "            elif i[j].isspace():\n",
    "                cS +=1\n",
    "    print(f'количество букв в файле в верхнем регистре: {cU}\\n\\nколичество букв в файле в нижнем регистре: {cL}\\n\\nколичество цифр в файле: {cN}\\n\\nколичество пробельных символов в файле: {cS}')\n",
    "except FileNotFoundError:\n",
    "    print('файл с таким именем не найден')"
   ]
  },
  {
   "cell_type": "code",
   "execution_count": null,
   "metadata": {},
   "outputs": [],
   "source": []
  }
 ],
 "metadata": {
  "kernelspec": {
   "display_name": "Python 3",
   "language": "python",
   "name": "python3"
  },
  "language_info": {
   "codemirror_mode": {
    "name": "ipython",
    "version": 3
   },
   "file_extension": ".py",
   "mimetype": "text/x-python",
   "name": "python",
   "nbconvert_exporter": "python",
   "pygments_lexer": "ipython3",
   "version": "3.7.4"
  }
 },
 "nbformat": 4,
 "nbformat_minor": 4
}
