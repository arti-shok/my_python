{
 "cells": [
  {
   "cell_type": "code",
   "execution_count": null,
   "metadata": {},
   "outputs": [],
   "source": [
    "tasks = [{'name':'поздравить друга с днем рождения', 'category':'ДР', 'time':'12.12.2019'},\n",
    "         {'name':'купить масло', 'category':'покупки', 'time':'сегодня'}]"
   ]
  },
  {
   "cell_type": "code",
   "execution_count": null,
   "metadata": {},
   "outputs": [],
   "source": [
    "from pprint import pprint\n",
    "print(\"Простой todo: \\n1. Добавить задачу.\\n2. Вывести список задач.\\n3. Выход\")\n",
    "n = 0\n",
    "while n!=3:\n",
    "    n = int(input('введите число:'))\n",
    "    if n == 1:\n",
    "        name = input('сформулируйте задачу: ')\n",
    "        category = input('добавьте категорию к задаче:')\n",
    "        time = input('добавьте время к задаче')\n",
    "        tasks.append({'name': name, 'category': category, 'time': time})\n",
    "    else:\n",
    "        print(tasks)"
   ]
  },
  {
   "cell_type": "code",
   "execution_count": null,
   "metadata": {},
   "outputs": [],
   "source": []
  }
 ],
 "metadata": {
  "kernelspec": {
   "display_name": "Python 3",
   "language": "python",
   "name": "python3"
  },
  "language_info": {
   "codemirror_mode": {
    "name": "ipython",
    "version": 3
   },
   "file_extension": ".py",
   "mimetype": "text/x-python",
   "name": "python",
   "nbconvert_exporter": "python",
   "pygments_lexer": "ipython3",
   "version": "3.7.4"
  }
 },
 "nbformat": 4,
 "nbformat_minor": 4
}
