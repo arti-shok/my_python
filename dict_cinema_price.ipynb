{
 "cells": [
  {
   "cell_type": "code",
   "execution_count": 37,
   "metadata": {},
   "outputs": [],
   "source": [
    "def cinema_price(film, date, time, count_of_tickets):\n",
    "    cinema={\n",
    "        'паразиты':{\n",
    "            'сегодня':{12: 250, 16: 350, 20: 450},\n",
    "            'завтра':{12: 250*0.95, 16: 350*0.95, 20: 450*0.95}\n",
    "        },\n",
    "        '1917':{\n",
    "            'сегодня':{10: 250, 13: 350, 16: 350},\n",
    "            'завтра':{10: 250*0.95, 13: 350*0.95, 16: 350*0.95}\n",
    "        },\n",
    "        'соник в кино':{\n",
    "            'сегодня':{10: 350, 14: 450, 18: 450},\n",
    "            'завтра':{10: 350*0.95, 14: 450*0.95, 18: 450*0.95}\n",
    "        }\n",
    "    }\n",
    "    x = cinema[film][date].get(time,0)*count_of_tickets\n",
    "    if x!=0:\n",
    "        if count_of_tickets>=20:\n",
    "            return x*0.8\n",
    "        else:\n",
    "            return x\n",
    "    else:\n",
    "        return 'неверные входные данные'"
   ]
  },
  {
   "cell_type": "code",
   "execution_count": 38,
   "metadata": {},
   "outputs": [
    {
     "data": {
      "text/plain": [
       "'неверные входные данные'"
      ]
     },
     "execution_count": 38,
     "metadata": {},
     "output_type": "execute_result"
    }
   ],
   "source": [
    "cinema_price('паразиты','сегодня',11,20)"
   ]
  },
  {
   "cell_type": "code",
   "execution_count": null,
   "metadata": {},
   "outputs": [],
   "source": []
  }
 ],
 "metadata": {
  "kernelspec": {
   "display_name": "Python 3",
   "language": "python",
   "name": "python3"
  },
  "language_info": {
   "codemirror_mode": {
    "name": "ipython",
    "version": 3
   },
   "file_extension": ".py",
   "mimetype": "text/x-python",
   "name": "python",
   "nbconvert_exporter": "python",
   "pygments_lexer": "ipython3",
   "version": "3.7.4"
  }
 },
 "nbformat": 4,
 "nbformat_minor": 4
}
