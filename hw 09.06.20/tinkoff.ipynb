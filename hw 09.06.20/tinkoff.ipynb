{
 "cells": [
  {
   "cell_type": "code",
   "execution_count": 1,
   "metadata": {},
   "outputs": [],
   "source": [
    "import json\n",
    "import pandas as pd\n",
    "import numpy\n",
    "import pymorphy2\n",
    "morph = pymorphy2.MorphAnalyzer()"
   ]
  },
  {
   "cell_type": "markdown",
   "metadata": {},
   "source": [
    "Задание 1"
   ]
  },
  {
   "cell_type": "code",
   "execution_count": 2,
   "metadata": {},
   "outputs": [],
   "source": [
    "data = []\n",
    "with open('tinkoff_hh.json','r',encoding = 'UTF8') as f:\n",
    "    r = f.readlines()\n",
    "for i in r:\n",
    "    data.append(json.loads(i))"
   ]
  },
  {
   "cell_type": "code",
   "execution_count": 3,
   "metadata": {},
   "outputs": [],
   "source": [
    "data1 = pd.DataFrame(data[1::2])"
   ]
  },
  {
   "cell_type": "code",
   "execution_count": 4,
   "metadata": {},
   "outputs": [],
   "source": [
    "data1[\"id\"] = pd.DataFrame([i[\"index\"] for i in data[0::2]])"
   ]
  },
  {
   "cell_type": "code",
   "execution_count": 5,
   "metadata": {},
   "outputs": [
    {
     "data": {
      "text/html": [
       "<div>\n",
       "<style scoped>\n",
       "    .dataframe tbody tr th:only-of-type {\n",
       "        vertical-align: middle;\n",
       "    }\n",
       "\n",
       "    .dataframe tbody tr th {\n",
       "        vertical-align: top;\n",
       "    }\n",
       "\n",
       "    .dataframe thead th {\n",
       "        text-align: right;\n",
       "    }\n",
       "</style>\n",
       "<table border=\"1\" class=\"dataframe\">\n",
       "  <thead>\n",
       "    <tr style=\"text-align: right;\">\n",
       "      <th></th>\n",
       "      <th>vacancy</th>\n",
       "      <th>company</th>\n",
       "      <th>creation_date</th>\n",
       "      <th>region</th>\n",
       "      <th>income</th>\n",
       "      <th>experience</th>\n",
       "      <th>employment_type</th>\n",
       "      <th>duties</th>\n",
       "      <th>requirements</th>\n",
       "      <th>conditions</th>\n",
       "      <th>id</th>\n",
       "    </tr>\n",
       "  </thead>\n",
       "  <tbody>\n",
       "    <tr>\n",
       "      <td>0</td>\n",
       "      <td>Начинающий специалист по залоговому кредитованию</td>\n",
       "      <td>Тинькофф</td>\n",
       "      <td>2019-01-15</td>\n",
       "      <td>Москва</td>\n",
       "      <td>от 55 000 руб.</td>\n",
       "      <td>не требуется</td>\n",
       "      <td>Полная занятость</td>\n",
       "      <td>- Звонить клиентам, которым банк одобрил креди...</td>\n",
       "      <td>None</td>\n",
       "      <td>- График работы 5/2 с плавающими выходными;\\n-...</td>\n",
       "      <td>0</td>\n",
       "    </tr>\n",
       "    <tr>\n",
       "      <td>1</td>\n",
       "      <td>Начинающий специалист в банк</td>\n",
       "      <td>Тинькофф</td>\n",
       "      <td>2019-01-15</td>\n",
       "      <td>Москва</td>\n",
       "      <td>от 50 000 руб.</td>\n",
       "      <td>не требуется</td>\n",
       "      <td>Полная занятость</td>\n",
       "      <td>- Работать с действующими и потенциальными кли...</td>\n",
       "      <td>- Грамотная речь;\\n- Уверенный пользователь ПК.</td>\n",
       "      <td>- Стабильную заработную плату: гарантированный...</td>\n",
       "      <td>1</td>\n",
       "    </tr>\n",
       "    <tr>\n",
       "      <td>2</td>\n",
       "      <td>Менеджер по работе с корпоративными клиентами ...</td>\n",
       "      <td>Тинькофф</td>\n",
       "      <td>2019-01-15</td>\n",
       "      <td>Москва</td>\n",
       "      <td>от 50 000 до 150 000 руб.</td>\n",
       "      <td>1–3 года</td>\n",
       "      <td>Полная занятость</td>\n",
       "      <td>- Самостоятельный поиск и активное привлечение...</td>\n",
       "      <td>- Желание работать в современном, высококвалиф...</td>\n",
       "      <td>- Обучение у лучших тренеров и наставников бан...</td>\n",
       "      <td>2</td>\n",
       "    </tr>\n",
       "  </tbody>\n",
       "</table>\n",
       "</div>"
      ],
      "text/plain": [
       "                                             vacancy   company creation_date  \\\n",
       "0   Начинающий специалист по залоговому кредитованию  Тинькофф    2019-01-15   \n",
       "1                       Начинающий специалист в банк  Тинькофф    2019-01-15   \n",
       "2  Менеджер по работе с корпоративными клиентами ...  Тинькофф    2019-01-15   \n",
       "\n",
       "   region                     income    experience   employment_type  \\\n",
       "0  Москва             от 55 000 руб.  не требуется  Полная занятость   \n",
       "1  Москва             от 50 000 руб.  не требуется  Полная занятость   \n",
       "2  Москва  от 50 000 до 150 000 руб.      1–3 года  Полная занятость   \n",
       "\n",
       "                                              duties  \\\n",
       "0  - Звонить клиентам, которым банк одобрил креди...   \n",
       "1  - Работать с действующими и потенциальными кли...   \n",
       "2  - Самостоятельный поиск и активное привлечение...   \n",
       "\n",
       "                                        requirements  \\\n",
       "0                                               None   \n",
       "1    - Грамотная речь;\\n- Уверенный пользователь ПК.   \n",
       "2  - Желание работать в современном, высококвалиф...   \n",
       "\n",
       "                                          conditions id  \n",
       "0  - График работы 5/2 с плавающими выходными;\\n-...  0  \n",
       "1  - Стабильную заработную плату: гарантированный...  1  \n",
       "2  - Обучение у лучших тренеров и наставников бан...  2  "
      ]
     },
     "execution_count": 5,
     "metadata": {},
     "output_type": "execute_result"
    }
   ],
   "source": [
    "data1.head(3)"
   ]
  },
  {
   "cell_type": "code",
   "execution_count": 6,
   "metadata": {},
   "outputs": [],
   "source": [
    "x = 'Начинающий специалист по залоговому кредитованию'\n",
    "y = 'Москва'"
   ]
  },
  {
   "cell_type": "code",
   "execution_count": 8,
   "metadata": {},
   "outputs": [
    {
     "data": {
      "text/plain": [
       "income           vacancy                                                        \n",
       " до 40 000 руб.  Координатор в тренинг-центр                                        1\n",
       " до 41 000 руб.  Младший специалист кадрового делопроизводства                      1\n",
       " до 55 000 руб.  Тренер группы обучения                                             7\n",
       " до 65 000 руб.  Специалист Службы финансового мониторинга (Методология)            1\n",
       " до 80 000 руб.  Старший специалист по расследованиям (Фрод-мониторинг)             1\n",
       "                                                                                   ..\n",
       "от 80 000 руб.   Торговый представитель                                             7\n",
       "                 Менеджер по привлечению корпоративных клиентов                     1\n",
       "                 Менеджер по привлечению корпоративных клиентов (средний бизнес)    1\n",
       "от 85 000 руб.   Менеджер по продаже POS-кредитования среднему бизнесу              2\n",
       "от 90 000 руб.   Руководитель группы по привлечению корпоративных клиентов          9\n",
       "Name: vacancy, Length: 519, dtype: int64"
      ]
     },
     "execution_count": 8,
     "metadata": {},
     "output_type": "execute_result"
    }
   ],
   "source": [
    "data1.groupby(['income'])['vacancy'].value_counts()"
   ]
  },
  {
   "cell_type": "markdown",
   "metadata": {},
   "source": [
    "Задание 2"
   ]
  },
  {
   "cell_type": "code",
   "execution_count": 5,
   "metadata": {},
   "outputs": [
    {
     "data": {
      "text/html": [
       "<div>\n",
       "<style scoped>\n",
       "    .dataframe tbody tr th:only-of-type {\n",
       "        vertical-align: middle;\n",
       "    }\n",
       "\n",
       "    .dataframe tbody tr th {\n",
       "        vertical-align: top;\n",
       "    }\n",
       "\n",
       "    .dataframe thead th {\n",
       "        text-align: right;\n",
       "    }\n",
       "</style>\n",
       "<table border=\"1\" class=\"dataframe\">\n",
       "  <thead>\n",
       "    <tr style=\"text-align: right;\">\n",
       "      <th></th>\n",
       "      <th>Поисковая фраза</th>\n",
       "      <th>Поисковая система</th>\n",
       "      <th>Визиты</th>\n",
       "      <th>Посетители</th>\n",
       "      <th>Отказы</th>\n",
       "      <th>Глубина просмотра</th>\n",
       "      <th>Время на сайте</th>\n",
       "    </tr>\n",
       "  </thead>\n",
       "  <tbody>\n",
       "    <tr>\n",
       "      <td>0</td>\n",
       "      <td>Итого и средние</td>\n",
       "      <td>NaN</td>\n",
       "      <td>72394</td>\n",
       "      <td>57803</td>\n",
       "      <td>0.120328</td>\n",
       "      <td>1.298934</td>\n",
       "      <td>00:01:18</td>\n",
       "    </tr>\n",
       "    <tr>\n",
       "      <td>1</td>\n",
       "      <td>pycode.ru</td>\n",
       "      <td>Яндекс</td>\n",
       "      <td>2068</td>\n",
       "      <td>1225</td>\n",
       "      <td>0.093810</td>\n",
       "      <td>1.674565</td>\n",
       "      <td>00:01:38</td>\n",
       "    </tr>\n",
       "    <tr>\n",
       "      <td>2</td>\n",
       "      <td>холопов алексей васильевич</td>\n",
       "      <td>Яндекс</td>\n",
       "      <td>1240</td>\n",
       "      <td>467</td>\n",
       "      <td>0.082258</td>\n",
       "      <td>1.941129</td>\n",
       "      <td>00:03:53</td>\n",
       "    </tr>\n",
       "  </tbody>\n",
       "</table>\n",
       "</div>"
      ],
      "text/plain": [
       "              Поисковая фраза Поисковая система  Визиты  Посетители    Отказы  \\\n",
       "0             Итого и средние               NaN   72394       57803  0.120328   \n",
       "1                   pycode.ru            Яндекс    2068        1225  0.093810   \n",
       "2  холопов алексей васильевич            Яндекс    1240         467  0.082258   \n",
       "\n",
       "   Глубина просмотра Время на сайте  \n",
       "0           1.298934       00:01:18  \n",
       "1           1.674565       00:01:38  \n",
       "2           1.941129       00:03:53  "
      ]
     },
     "execution_count": 5,
     "metadata": {},
     "output_type": "execute_result"
    }
   ],
   "source": [
    "import pandas as pd\n",
    "\n",
    "url = \"https://raw.githubusercontent.com/dm-fedorov/pandas_basic/master/data/data_stat/yandex-stat-q.csv\"\n",
    "\n",
    "df = pd.read_csv(url)\n",
    "df.head(3)"
   ]
  },
  {
   "cell_type": "code",
   "execution_count": 103,
   "metadata": {},
   "outputs": [],
   "source": [
    "def norm2(x):\n",
    "    return list(map(lambda q: morph.parse(q)[0].normal_form, x.lower().split()))"
   ]
  },
  {
   "cell_type": "code",
   "execution_count": 10,
   "metadata": {},
   "outputs": [],
   "source": [
    "x = [norm2(i) for i in df['Поисковая фраза'].values]"
   ]
  },
  {
   "cell_type": "code",
   "execution_count": 104,
   "metadata": {},
   "outputs": [
    {
     "data": {
      "text/plain": [
       "['общества.основный']"
      ]
     },
     "execution_count": 104,
     "metadata": {},
     "output_type": "execute_result"
    }
   ],
   "source": [
    "norm2('общества.основный ')"
   ]
  },
  {
   "cell_type": "code",
   "execution_count": 61,
   "metadata": {},
   "outputs": [],
   "source": [
    "data2 = list(zip(x, df['Визиты'].values))"
   ]
  },
  {
   "cell_type": "code",
   "execution_count": 13,
   "metadata": {},
   "outputs": [
    {
     "data": {
      "text/plain": [
       "[(['итого', 'и', 'средний'], 72394),\n",
       " (['pycode.ru'], 2068),\n",
       " (['холоп', 'алексей', 'василий'], 1240),\n",
       " (['золотой', 'правило', 'дидактика'], 778),\n",
       " (['золотой', 'правило', 'дидактика', 'я.а', 'коменский'], 743)]"
      ]
     },
     "execution_count": 13,
     "metadata": {},
     "output_type": "execute_result"
    }
   ],
   "source": [
    "data2[:5:]"
   ]
  },
  {
   "cell_type": "code",
   "execution_count": 77,
   "metadata": {},
   "outputs": [],
   "source": [
    "data3 = ([[i[0][j], i[1]] for i in data2 for j in range(len(i[0]))])"
   ]
  },
  {
   "cell_type": "code",
   "execution_count": 105,
   "metadata": {},
   "outputs": [
    {
     "data": {
      "text/plain": [
       "[['итого', 72394],\n",
       " ['и', 72394],\n",
       " ['средний', 72394],\n",
       " ['pycode.ru', 2068],\n",
       " ['холоп', 1240]]"
      ]
     },
     "execution_count": 105,
     "metadata": {},
     "output_type": "execute_result"
    }
   ],
   "source": [
    "data3[:5:]"
   ]
  },
  {
   "cell_type": "code",
   "execution_count": 87,
   "metadata": {},
   "outputs": [
    {
     "data": {
      "text/plain": [
       "0\n",
       "!                        1\n",
       "общества)                1\n",
       "общества.основный        1\n",
       "общества?                1\n",
       "общества».               1\n",
       "                     ...  \n",
       "конференция          10939\n",
       "тезис                16892\n",
       "итого                72394\n",
       "средний              72408\n",
       "и                    76665\n",
       "Name: 1, Length: 16954, dtype: int64"
      ]
     },
     "execution_count": 87,
     "metadata": {},
     "output_type": "execute_result"
    }
   ],
   "source": [
    "pd.DataFrame(data3).groupby(0)[1].sum().sort_values()"
   ]
  },
  {
   "cell_type": "code",
   "execution_count": null,
   "metadata": {},
   "outputs": [],
   "source": []
  }
 ],
 "metadata": {
  "kernelspec": {
   "display_name": "Python 3",
   "language": "python",
   "name": "python3"
  },
  "language_info": {
   "codemirror_mode": {
    "name": "ipython",
    "version": 3
   },
   "file_extension": ".py",
   "mimetype": "text/x-python",
   "name": "python",
   "nbconvert_exporter": "python",
   "pygments_lexer": "ipython3",
   "version": "3.7.4"
  }
 },
 "nbformat": 4,
 "nbformat_minor": 4
}
