{
 "cells": [
  {
   "cell_type": "code",
   "execution_count": 3,
   "metadata": {},
   "outputs": [],
   "source": [
    "from random import randint as r"
   ]
  },
  {
   "cell_type": "markdown",
   "metadata": {},
   "source": [
    "https://drakonhub.com/ide/doc/arti-shok/3"
   ]
  },
  {
   "cell_type": "code",
   "execution_count": 45,
   "metadata": {},
   "outputs": [
    {
     "name": "stdout",
     "output_type": "stream",
     "text": [
      "у вас есть 3 попытки\n"
     ]
    },
    {
     "name": "stdin",
     "output_type": "stream",
     "text": [
      "введите число: 1\n"
     ]
    },
    {
     "name": "stdout",
     "output_type": "stream",
     "text": [
      "загаданное число больше\n"
     ]
    },
    {
     "name": "stdin",
     "output_type": "stream",
     "text": [
      "введите число: 5\n"
     ]
    },
    {
     "name": "stdout",
     "output_type": "stream",
     "text": [
      "загаданное число меньше\n"
     ]
    },
    {
     "name": "stdin",
     "output_type": "stream",
     "text": [
      "введите число: 3\n"
     ]
    },
    {
     "name": "stdout",
     "output_type": "stream",
     "text": [
      "победа\n"
     ]
    }
   ],
   "source": [
    "print('у вас есть 3 попытки')\n",
    "val = r(1,10)\n",
    "cnt = 0\n",
    "cntM = 3\n",
    "while cnt < cntM:\n",
    "    num = int(input('введите число:'))\n",
    "    if num == val:\n",
    "        print('победа')\n",
    "        break\n",
    "    else:\n",
    "        cnt +=1\n",
    "        if cnt == cntM:\n",
    "            print('игра окончена\\nчисло:', val)\n",
    "            break\n",
    "        if num < val:\n",
    "            print('загаданное число больше')\n",
    "        else: \n",
    "            print('загаданное число меньше')\n",
    "        "
   ]
  },
  {
   "cell_type": "code",
   "execution_count": null,
   "metadata": {},
   "outputs": [],
   "source": []
  }
 ],
 "metadata": {
  "kernelspec": {
   "display_name": "Python 3",
   "language": "python",
   "name": "python3"
  },
  "language_info": {
   "codemirror_mode": {
    "name": "ipython",
    "version": 3
   },
   "file_extension": ".py",
   "mimetype": "text/x-python",
   "name": "python",
   "nbconvert_exporter": "python",
   "pygments_lexer": "ipython3",
   "version": "3.7.4"
  }
 },
 "nbformat": 4,
 "nbformat_minor": 4
}
